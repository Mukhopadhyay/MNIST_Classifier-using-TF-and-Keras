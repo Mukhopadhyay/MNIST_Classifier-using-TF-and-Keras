{
  "nbformat": 4,
  "nbformat_minor": 0,
  "metadata": {
    "colab": {
      "name": "MNIST_Classifier_TF_and_Keras.ipynb",
      "provenance": [],
      "collapsed_sections": [],
      "include_colab_link": true
    },
    "kernelspec": {
      "name": "python3",
      "display_name": "Python 3"
    }
  },
  "cells": [
    {
      "cell_type": "markdown",
      "metadata": {
        "id": "view-in-github",
        "colab_type": "text"
      },
      "source": [
        "<a href=\"https://colab.research.google.com/github/Mukhopadhyay/MNIST_Classifier-using-TF-and-Keras/blob/master/MNIST_Classifier_TF_and_Keras.ipynb\" target=\"_parent\"><img src=\"https://colab.research.google.com/assets/colab-badge.svg\" alt=\"Open In Colab\"/></a>"
      ]
    },
    {
      "cell_type": "markdown",
      "metadata": {
        "id": "WpPYDeZ7qNck",
        "colab_type": "text"
      },
      "source": [
        "**Assignment)** Write an **MNIST classifier** that trains to **99%** accuracy or above, and does it without a fixed number of epochs -- i.e. you should stop training once you reach that level of accuracy."
      ]
    },
    {
      "cell_type": "code",
      "metadata": {
        "id": "C_UKYi6wqMGL",
        "colab_type": "code",
        "colab": {
          "base_uri": "https://localhost:8080/",
          "height": 34
        },
        "outputId": "16240d0a-518d-49c9-d550-799e48db4dcf"
      },
      "source": [
        "import tensorflow as tf\n",
        "print(tf.__version__)"
      ],
      "execution_count": 54,
      "outputs": [
        {
          "output_type": "stream",
          "text": [
            "1.15.0\n"
          ],
          "name": "stdout"
        }
      ]
    },
    {
      "cell_type": "markdown",
      "metadata": {
        "id": "3vGPi3VUrKSs",
        "colab_type": "text"
      },
      "source": [
        "Adding the class within which we are defining the callback function"
      ]
    },
    {
      "cell_type": "code",
      "metadata": {
        "id": "4CSB703Vqnbf",
        "colab_type": "code",
        "colab": {}
      },
      "source": [
        "class myCallbacks(tf.keras.callbacks.Callback):\n",
        "  def on_epoch_end(self, epoch, logs = {}):\n",
        "    if(logs.get('acc') > 0.99):\n",
        "      print('\\nAccuracy of the network is now 99% so stopping the training')\n",
        "      #Stop the training if the condition is satisfied\n",
        "      self.model.stop_training = True"
      ],
      "execution_count": 0,
      "outputs": []
    },
    {
      "cell_type": "code",
      "metadata": {
        "id": "6005zeA5rvP2",
        "colab_type": "code",
        "colab": {}
      },
      "source": [
        "mnist = tf.keras.datasets.mnist\n",
        "(training_data, training_label), (test_data, test_label) = mnist.load_data()"
      ],
      "execution_count": 0,
      "outputs": []
    },
    {
      "cell_type": "markdown",
      "metadata": {
        "id": "ShzZnTCRs5a1",
        "colab_type": "text"
      },
      "source": [
        "**Importing pyplot to visualize the data**"
      ]
    },
    {
      "cell_type": "code",
      "metadata": {
        "id": "ll12icR5sGOr",
        "colab_type": "code",
        "colab": {
          "base_uri": "https://localhost:8080/",
          "height": 282
        },
        "outputId": "72a8f7be-1427-4318-c06a-89d08c135b13"
      },
      "source": [
        "import matplotlib.pyplot as plt\n",
        "plt.imshow(training_data[1])\n",
        "#print(training_data[1])"
      ],
      "execution_count": 72,
      "outputs": [
        {
          "output_type": "execute_result",
          "data": {
            "text/plain": [
              "<matplotlib.image.AxesImage at 0x7f0bc5c7b5f8>"
            ]
          },
          "metadata": {
            "tags": []
          },
          "execution_count": 72
        },
        {
          "output_type": "display_data",
          "data": {
            "image/png": "[encoded data removed]",
            "text/plain": [
              "<Figure size 432x288 with 1 Axes>"
            ]
          },
          "metadata": {
            "tags": []
          }
        }
      ]
    },
    {
      "cell_type": "markdown",
      "metadata": {
        "id": "BLt6OiHztcWb",
        "colab_type": "text"
      },
      "source": [
        "**Normalizing the data**"
      ]
    },
    {
      "cell_type": "code",
      "metadata": {
        "id": "LRwXRvOmsVYi",
        "colab_type": "code",
        "colab": {}
      },
      "source": [
        "training_data = training_data / 255.0\n",
        "test_data = test_data / 255.0\n",
        "#print(training_data[0])"
      ],
      "execution_count": 0,
      "outputs": []
    },
    {
      "cell_type": "code",
      "metadata": {
        "id": "cLz6z2RctraW",
        "colab_type": "code",
        "colab": {}
      },
      "source": [
        "model = tf.keras.models.Sequential([\n",
        "    tf.keras.layers.Flatten(),\n",
        "    tf.keras.layers.Dense(128, activation = tf.nn.relu),\n",
        "    tf.keras.layers.Dense(10, activation = tf.nn.softmax)\n",
        "])"
      ],
      "execution_count": 0,
      "outputs": []
    },
    {
      "cell_type": "code",
      "metadata": {
        "id": "CsNYpg49wvs6",
        "colab_type": "code",
        "colab": {}
      },
      "source": [
        "model.compile(optimizer = 'adam', loss = 'sparse_categorical_crossentropy', metrics = ['accuracy'])"
      ],
      "execution_count": 0,
      "outputs": []
    },
    {
      "cell_type": "code",
      "metadata": {
        "id": "sqMs0_LGxTk-",
        "colab_type": "code",
        "colab": {
          "base_uri": "https://localhost:8080/",
          "height": 306
        },
        "outputId": "5d8737bb-7099-429a-87e8-f2decc606fb1"
      },
      "source": [
        "callbacks = myCallbacks()\n",
        "model.fit(training_data, training_label, epochs = 10, callbacks = [callbacks])\n",
        "#print(history.epoch)\n",
        "#print(history['acc'][-1])"
      ],
      "execution_count": 78,
      "outputs": [
        {
          "output_type": "stream",
          "text": [
            "Train on 60000 samples\n",
            "Epoch 1/10\n",
            "60000/60000 [==============================] - 5s 79us/sample - loss: 0.2615 - acc: 0.9238\n",
            "Epoch 2/10\n",
            "60000/60000 [==============================] - 5s 78us/sample - loss: 0.1146 - acc: 0.9667\n",
            "Epoch 3/10\n",
            "60000/60000 [==============================] - 5s 82us/sample - loss: 0.0769 - acc: 0.9765\n",
            "Epoch 4/10\n",
            "60000/60000 [==============================] - 5s 79us/sample - loss: 0.0573 - acc: 0.9825\n",
            "Epoch 5/10\n",
            "60000/60000 [==============================] - 5s 80us/sample - loss: 0.0451 - acc: 0.9855\n",
            "Epoch 6/10\n",
            "60000/60000 [==============================] - 5s 79us/sample - loss: 0.0349 - acc: 0.9893\n",
            "Epoch 7/10\n",
            "59488/60000 [============================>.] - ETA: 0s - loss: 0.0284 - acc: 0.9908Accuracy of the network is now 99% so stopping the training\n",
            "60000/60000 [==============================] - 4s 74us/sample - loss: 0.0285 - acc: 0.9908\n"
          ],
          "name": "stdout"
        },
        {
          "output_type": "execute_result",
          "data": {
            "text/plain": [
              "<tensorflow.python.keras.callbacks.History at 0x7f0bbfca74e0>"
            ]
          },
          "metadata": {
            "tags": []
          },
          "execution_count": 78
        }
      ]
    },
    {
      "cell_type": "code",
      "metadata": {
        "id": "AJrNgNUgxjzE",
        "colab_type": "code",
        "colab": {}
      },
      "source": [
        ""
      ],
      "execution_count": 0,
      "outputs": []
    }
  ]
}